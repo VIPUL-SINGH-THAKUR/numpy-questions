{
 "cells": [
  {
   "cell_type": "code",
   "execution_count": 2,
   "id": "c192a4a6",
   "metadata": {},
   "outputs": [],
   "source": [
    "import numpy as np\n"
   ]
  },
  {
   "cell_type": "markdown",
   "id": "a2bcce02",
   "metadata": {},
   "source": [
    "# INTERVIEW QUESTIONS ON NUMPY"
   ]
  },
  {
   "cell_type": "code",
   "execution_count": 43,
   "id": "70b392f6",
   "metadata": {},
   "outputs": [
    {
     "data": {
      "text/plain": [
       "array([0., 0., 0., 0., 0., 0., 0., 0., 0., 0.])"
      ]
     },
     "execution_count": 43,
     "metadata": {},
     "output_type": "execute_result"
    }
   ],
   "source": [
    "#create an array of 10 zeroes\n",
    "np.zeros(10)"
   ]
  },
  {
   "cell_type": "code",
   "execution_count": 44,
   "id": "027b4cfd",
   "metadata": {},
   "outputs": [
    {
     "data": {
      "text/plain": [
       "array([1., 1., 1., 1., 1., 1., 1., 1., 1., 1.])"
      ]
     },
     "execution_count": 44,
     "metadata": {},
     "output_type": "execute_result"
    }
   ],
   "source": [
    "#create an array of 10 ones\n",
    "np.ones(10)"
   ]
  },
  {
   "cell_type": "code",
   "execution_count": 45,
   "id": "c336b4a2",
   "metadata": {},
   "outputs": [
    {
     "data": {
      "text/plain": [
       "array([7., 7., 7., 7., 7., 7., 7., 7., 7., 7.])"
      ]
     },
     "execution_count": 45,
     "metadata": {},
     "output_type": "execute_result"
    }
   ],
   "source": [
    "#create an array of 10 sevens\n",
    "7*np.ones(10)"
   ]
  },
  {
   "cell_type": "code",
   "execution_count": 46,
   "id": "d875a9cc",
   "metadata": {},
   "outputs": [
    {
     "data": {
      "text/plain": [
       "array([10, 11, 12, 13, 14, 15, 16, 17, 18, 19, 20, 21, 22, 23, 24, 25, 26,\n",
       "       27, 28, 29, 30, 31, 32, 33, 34, 35, 36, 37, 38, 39, 40, 41, 42, 43,\n",
       "       44, 45, 46, 47, 48, 49, 50])"
      ]
     },
     "execution_count": 46,
     "metadata": {},
     "output_type": "execute_result"
    }
   ],
   "source": [
    "#create an array of integers b/w 10 to 50\n",
    "np.arange(10 ,51)"
   ]
  },
  {
   "cell_type": "code",
   "execution_count": 47,
   "id": "3ea3692d",
   "metadata": {},
   "outputs": [
    {
     "data": {
      "text/plain": [
       "array([10, 12, 14, 16, 18, 20, 22, 24, 26, 28, 30, 32, 34, 36, 38, 40, 42,\n",
       "       44, 46, 48, 50])"
      ]
     },
     "execution_count": 47,
     "metadata": {},
     "output_type": "execute_result"
    }
   ],
   "source": [
    "#create an array of even integers b/w 10 to 50\n",
    "np.arange(10 ,51 , 2)"
   ]
  },
  {
   "cell_type": "code",
   "execution_count": 48,
   "id": "26fe6a55",
   "metadata": {},
   "outputs": [
    {
     "data": {
      "text/plain": [
       "array([[0, 1, 2],\n",
       "       [3, 4, 5],\n",
       "       [6, 7, 8]])"
      ]
     },
     "execution_count": 48,
     "metadata": {},
     "output_type": "execute_result"
    }
   ],
   "source": [
    "#create a 3 by 3 matrix in range 0 -8\n",
    "np.arange(0,9).reshape(3,3)"
   ]
  },
  {
   "cell_type": "code",
   "execution_count": 49,
   "id": "2ef6606f",
   "metadata": {},
   "outputs": [
    {
     "data": {
      "text/plain": [
       "array([[1., 0., 0.],\n",
       "       [0., 1., 0.],\n",
       "       [0., 0., 1.]])"
      ]
     },
     "execution_count": 49,
     "metadata": {},
     "output_type": "execute_result"
    }
   ],
   "source": [
    "#create a 3 by 3 identity matrix\n",
    "np.identity(3)"
   ]
  },
  {
   "cell_type": "code",
   "execution_count": 50,
   "id": "aa44055b",
   "metadata": {},
   "outputs": [
    {
     "data": {
      "text/plain": [
       "0.47835076997220094"
      ]
     },
     "execution_count": 50,
     "metadata": {},
     "output_type": "execute_result"
    }
   ],
   "source": [
    "#generate a random no. b/w 0 to 1\n",
    "np.random.rand()"
   ]
  },
  {
   "cell_type": "code",
   "execution_count": 3,
   "id": "34622005",
   "metadata": {},
   "outputs": [
    {
     "data": {
      "text/plain": [
       "array([7, 4, 2, 3, 8, 8, 3, 1, 2, 4])"
      ]
     },
     "execution_count": 3,
     "metadata": {},
     "output_type": "execute_result"
    }
   ],
   "source": [
    "#generating 10 random integers from (1 to 10)\n",
    "np.random.randint(1,11,10)"
   ]
  },
  {
   "cell_type": "code",
   "execution_count": 2,
   "id": "e5487209",
   "metadata": {},
   "outputs": [
    {
     "name": "stdout",
     "output_type": "stream",
     "text": [
      "[9, 28, 29, 5, 10]\n"
     ]
    }
   ],
   "source": [
    "#w/o using numpy\n",
    "import random\n",
    "randomlist = []\n",
    "for i in range(0,5):\n",
    "    n = random.randint(1,30)\n",
    "    randomlist.append(n)\n",
    "print(randomlist)"
   ]
  },
  {
   "cell_type": "code",
   "execution_count": 51,
   "id": "4848047f",
   "metadata": {},
   "outputs": [
    {
     "data": {
      "text/plain": [
       "array([-0.75683573, -0.74285262, -0.55789785, -1.09765302,  0.21755106,\n",
       "        0.8073068 ,  0.0036413 ,  0.91987061,  0.90542136,  0.41452258,\n",
       "       -0.26108584,  0.74924866,  1.16827262, -1.22055802, -1.03171901,\n",
       "       -0.09746626, -0.79307957,  0.76080027,  0.72410735, -1.19460683,\n",
       "       -0.57489453, -1.89441147, -0.83371173, -0.58532736, -0.18941721])"
      ]
     },
     "execution_count": 51,
     "metadata": {},
     "output_type": "execute_result"
    }
   ],
   "source": [
    "# to generate array of 25 random numbers from standard normal distribution\n",
    "np.random.randn(25)"
   ]
  },
  {
   "cell_type": "code",
   "execution_count": 52,
   "id": "4735c198",
   "metadata": {},
   "outputs": [
    {
     "data": {
      "text/plain": [
       "array([0.        , 0.05263158, 0.10526316, 0.15789474, 0.21052632,\n",
       "       0.26315789, 0.31578947, 0.36842105, 0.42105263, 0.47368421,\n",
       "       0.52631579, 0.57894737, 0.63157895, 0.68421053, 0.73684211,\n",
       "       0.78947368, 0.84210526, 0.89473684, 0.94736842, 1.        ])"
      ]
     },
     "execution_count": 52,
     "metadata": {},
     "output_type": "execute_result"
    }
   ],
   "source": [
    "#create an array of 20 elements ranging (0 to 1) which are linearly spaced \n",
    "np.linspace(0,1,20)"
   ]
  },
  {
   "cell_type": "code",
   "execution_count": 54,
   "id": "52ef7ff0",
   "metadata": {},
   "outputs": [
    {
     "data": {
      "text/plain": [
       "array([[ 1,  2,  3,  4,  5],\n",
       "       [ 6,  7,  8,  9, 10],\n",
       "       [11, 12, 13, 14, 15],\n",
       "       [16, 17, 18, 19, 20],\n",
       "       [21, 22, 23, 24, 25]])"
      ]
     },
     "execution_count": 54,
     "metadata": {},
     "output_type": "execute_result"
    }
   ],
   "source": [
    "mat=np.arange(1 ,26).reshape(5,5)\n",
    "mat"
   ]
  },
  {
   "cell_type": "code",
   "execution_count": 55,
   "id": "ffc9cf46",
   "metadata": {},
   "outputs": [
    {
     "data": {
      "text/plain": [
       "array([[12, 13, 14, 15],\n",
       "       [17, 18, 19, 20],\n",
       "       [22, 23, 24, 25]])"
      ]
     },
     "execution_count": 55,
     "metadata": {},
     "output_type": "execute_result"
    }
   ],
   "source": [
    "mat[2: , 1:]"
   ]
  },
  {
   "cell_type": "code",
   "execution_count": 56,
   "id": "e75c17d6",
   "metadata": {},
   "outputs": [
    {
     "data": {
      "text/plain": [
       "17"
      ]
     },
     "execution_count": 56,
     "metadata": {},
     "output_type": "execute_result"
    }
   ],
   "source": [
    "mat[3,1]"
   ]
  },
  {
   "cell_type": "code",
   "execution_count": 57,
   "id": "52c9beb8",
   "metadata": {},
   "outputs": [
    {
     "data": {
      "text/plain": [
       "array([[ 2],\n",
       "       [ 7],\n",
       "       [12]])"
      ]
     },
     "execution_count": 57,
     "metadata": {},
     "output_type": "execute_result"
    }
   ],
   "source": [
    "mat[0:3 , 1].reshape(3,1)"
   ]
  },
  {
   "cell_type": "code",
   "execution_count": 58,
   "id": "397c66ce",
   "metadata": {},
   "outputs": [
    {
     "data": {
      "text/plain": [
       "array([[21, 22, 23, 24, 25]])"
      ]
     },
     "execution_count": 58,
     "metadata": {},
     "output_type": "execute_result"
    }
   ],
   "source": [
    "mat[4:,]"
   ]
  },
  {
   "cell_type": "code",
   "execution_count": 59,
   "id": "c3c3e775",
   "metadata": {},
   "outputs": [
    {
     "data": {
      "text/plain": [
       "array([[16, 17, 18, 19, 20],\n",
       "       [21, 22, 23, 24, 25]])"
      ]
     },
     "execution_count": 59,
     "metadata": {},
     "output_type": "execute_result"
    }
   ],
   "source": [
    "mat[3:5 ,]"
   ]
  },
  {
   "cell_type": "code",
   "execution_count": 60,
   "id": "dac6f4d2",
   "metadata": {},
   "outputs": [
    {
     "data": {
      "text/plain": [
       "325"
      ]
     },
     "execution_count": 60,
     "metadata": {},
     "output_type": "execute_result"
    }
   ],
   "source": [
    "mat.sum()"
   ]
  },
  {
   "cell_type": "code",
   "execution_count": 61,
   "id": "b5d14629",
   "metadata": {},
   "outputs": [
    {
     "data": {
      "text/plain": [
       "7.211102550927978"
      ]
     },
     "execution_count": 61,
     "metadata": {},
     "output_type": "execute_result"
    }
   ],
   "source": [
    "mat.std()"
   ]
  },
  {
   "cell_type": "code",
   "execution_count": 62,
   "id": "7ea63fff",
   "metadata": {},
   "outputs": [
    {
     "data": {
      "text/plain": [
       "array([55, 60, 65, 70, 75])"
      ]
     },
     "execution_count": 62,
     "metadata": {},
     "output_type": "execute_result"
    }
   ],
   "source": [
    "#sum of all columns\n",
    "mat.sum(axis=0)"
   ]
  },
  {
   "cell_type": "code",
   "execution_count": 63,
   "id": "7cefeb2b",
   "metadata": {},
   "outputs": [
    {
     "data": {
      "text/plain": [
       "array([ 15,  40,  65,  90, 115])"
      ]
     },
     "execution_count": 63,
     "metadata": {},
     "output_type": "execute_result"
    }
   ],
   "source": [
    "#sum of all rows\n",
    "mat.sum(axis=1)"
   ]
  },
  {
   "cell_type": "code",
   "execution_count": 64,
   "id": "1fc92814",
   "metadata": {},
   "outputs": [
    {
     "data": {
      "text/plain": [
       "array([0.27463745, 0.62356511, 0.79600926, 0.23294435, 0.43471622,\n",
       "       0.62754961, 0.93340184, 0.32782624, 0.49688617, 0.15802245,\n",
       "       0.82998186, 0.57719369, 0.8603358 , 0.24424867, 0.83986641,\n",
       "       0.14050184, 0.47790679, 0.71715827, 0.13443671, 0.38369814,\n",
       "       0.26106024, 0.91469198, 0.40788537, 0.10307843, 0.54222648,\n",
       "       0.65572463, 0.70288151, 0.51995309, 0.14847347, 0.19391088,\n",
       "       0.52500112, 0.90353234, 0.61575813, 0.41138939, 0.78881188,\n",
       "       0.89087754, 0.425365  , 0.28126154, 0.67454521, 0.49139584,\n",
       "       0.48870074, 0.14636692, 0.5610928 , 0.84820028, 0.24957712,\n",
       "       0.94841365, 0.4362923 , 0.68071147, 0.61344478, 0.30212155,\n",
       "       0.27442373, 0.23243124, 0.2200496 , 0.88938623, 0.58455151,\n",
       "       0.89286729, 0.77535058, 0.77900587, 0.66219718, 0.04850214,\n",
       "       0.68804449, 0.50041575, 0.44264985, 0.7863405 , 0.03995043,\n",
       "       0.75462333, 0.51422921, 0.47800472, 0.64743214, 0.61749555,\n",
       "       0.8945697 , 0.52589644, 0.26785571, 0.36114503, 0.09451694,\n",
       "       0.39279065, 0.62628372, 0.27418453, 0.51727576, 0.0098393 ,\n",
       "       0.72711516, 0.40513727, 0.62018321, 0.83336036, 0.45013441,\n",
       "       0.27442119, 0.54653583, 0.19536328, 0.23215298, 0.87749836,\n",
       "       0.59404827, 0.59050099, 0.61363131, 0.63541475, 0.88106165,\n",
       "       0.24658121, 0.18519349, 0.95285478, 0.1577597 , 0.71404247])"
      ]
     },
     "execution_count": 64,
     "metadata": {},
     "output_type": "execute_result"
    }
   ],
   "source": [
    "np.random.rand(100)"
   ]
  },
  {
   "cell_type": "code",
   "execution_count": 4,
   "id": "7b357609",
   "metadata": {},
   "outputs": [
    {
     "data": {
      "text/plain": [
       "array([0, 0, 3, 4, 4, 1, 0, 3, 4, 5, 1])"
      ]
     },
     "execution_count": 4,
     "metadata": {},
     "output_type": "execute_result"
    }
   ],
   "source": [
    "#numpy 1D array\n",
    "arr1= np.array([0,0,3,4,4,1,0,3,4,5,1])\n",
    "arr1"
   ]
  },
  {
   "cell_type": "code",
   "execution_count": 5,
   "id": "7f6aa672",
   "metadata": {},
   "outputs": [
    {
     "data": {
      "text/plain": [
       "array([3, 2, 0, 2, 3, 1], dtype=int64)"
      ]
     },
     "execution_count": 5,
     "metadata": {},
     "output_type": "execute_result"
    }
   ],
   "source": [
    "#numpy. bincount() method counts the occurrence of each element\n",
    "np.bincount(arr1)"
   ]
  },
  {
   "cell_type": "code",
   "execution_count": 6,
   "id": "f9f5668d",
   "metadata": {},
   "outputs": [
    {
     "data": {
      "text/plain": [
       "array([ 1., nan,  3.,  4.,  5.,  6., nan])"
      ]
     },
     "execution_count": 6,
     "metadata": {},
     "output_type": "execute_result"
    }
   ],
   "source": [
    "#NAN VALUE IN NUMPY\n",
    "arr2= np.array([ 1 , np.nan , 3 , 4 , 5, 6 , np.nan])\n",
    "arr2"
   ]
  },
  {
   "cell_type": "code",
   "execution_count": 7,
   "id": "7524807a",
   "metadata": {},
   "outputs": [
    {
     "data": {
      "text/plain": [
       "nan"
      ]
     },
     "execution_count": 7,
     "metadata": {},
     "output_type": "execute_result"
    }
   ],
   "source": [
    "arr2.sum()"
   ]
  },
  {
   "cell_type": "code",
   "execution_count": 8,
   "id": "9206b8d6",
   "metadata": {},
   "outputs": [
    {
     "data": {
      "text/plain": [
       "nan"
      ]
     },
     "execution_count": 8,
     "metadata": {},
     "output_type": "execute_result"
    }
   ],
   "source": [
    "arr2.max()"
   ]
  },
  {
   "cell_type": "code",
   "execution_count": 70,
   "id": "4b8d8445",
   "metadata": {},
   "outputs": [
    {
     "data": {
      "text/plain": [
       "19.0"
      ]
     },
     "execution_count": 70,
     "metadata": {},
     "output_type": "execute_result"
    }
   ],
   "source": [
    "#HOW TO IGNORE NAN VALUES FROM ARRAY\n",
    "np.nansum(arr2)"
   ]
  },
  {
   "cell_type": "code",
   "execution_count": 71,
   "id": "fff52e37",
   "metadata": {},
   "outputs": [
    {
     "data": {
      "text/plain": [
       "6.0"
      ]
     },
     "execution_count": 71,
     "metadata": {},
     "output_type": "execute_result"
    }
   ],
   "source": [
    "np.nanmax(arr2)"
   ]
  },
  {
   "cell_type": "code",
   "execution_count": 72,
   "id": "f58b88d6",
   "metadata": {},
   "outputs": [
    {
     "data": {
      "text/plain": [
       "array([1, 2, 5])"
      ]
     },
     "execution_count": 72,
     "metadata": {},
     "output_type": "execute_result"
    }
   ],
   "source": [
    "#HOW TO REMOVE ELEMENTS FROM ARRAY1 THAT EXIST IN ARRAY2\n",
    "a= np.array([1,2,4,5,0])\n",
    "b=np.array([3,4,0])\n",
    "np.setdiff1d(a,b)"
   ]
  },
  {
   "cell_type": "code",
   "execution_count": 10,
   "id": "e104f4b2",
   "metadata": {},
   "outputs": [
    {
     "name": "stdout",
     "output_type": "stream",
     "text": [
      "37.400000000000006\n"
     ]
    }
   ],
   "source": [
    "#how to calculate percentiles using numpy\n",
    "c=np.array([11,22,33,44,55,66,77])\n",
    "perc= np.percentile(c,40)  #RETURN THE 40 PERCENTILE\n",
    "print(perc)"
   ]
  },
  {
   "cell_type": "code",
   "execution_count": 74,
   "id": "26c593c6",
   "metadata": {},
   "outputs": [
    {
     "name": "stdout",
     "output_type": "stream",
     "text": [
      "[77 66 55 44 33 22 11]\n"
     ]
    }
   ],
   "source": [
    "#how to reverse numpy array\n",
    "rev_arr= c[::-1]\n",
    "print(rev_arr)"
   ]
  },
  {
   "cell_type": "code",
   "execution_count": 79,
   "id": "d44b74fe",
   "metadata": {},
   "outputs": [
    {
     "name": "stdout",
     "output_type": "stream",
     "text": [
      "[[0 1]\n",
      " [2 3]]\n",
      "3\n",
      "0\n"
     ]
    }
   ],
   "source": [
    "a=np.arange(4).reshape((2,2))\n",
    "max_value=np.max(a)\n",
    "min_value=np.min(a)\n",
    "print(a)\n",
    "print(max_value)\n",
    "print(min_value)"
   ]
  },
  {
   "cell_type": "code",
   "execution_count": 89,
   "id": "779430bc",
   "metadata": {},
   "outputs": [
    {
     "name": "stdout",
     "output_type": "stream",
     "text": [
      "[[ 0  1  2  3]\n",
      " [ 4  5  6  7]\n",
      " [ 8  9 10 11]\n",
      " [12 13 14 15]]\n",
      "7.5\n",
      "7.5\n",
      "4.6097722286464435\n",
      "21.25\n"
     ]
    }
   ],
   "source": [
    "#calculate mean,median ,std,variamce of array\n",
    "b=np.arange(16).reshape((4,4))\n",
    "print(b)\n",
    "mean=np.mean(b)\n",
    "med=np.median(b)\n",
    "std=np.std(b)\n",
    "variance=np.var(b)\n",
    "print(mean)\n",
    "print(med)\n",
    "print(std)\n",
    "print(variance)"
   ]
  },
  {
   "cell_type": "code",
   "execution_count": 91,
   "id": "6edc42e4",
   "metadata": {},
   "outputs": [
    {
     "name": "stdout",
     "output_type": "stream",
     "text": [
      "[[ 1.         -0.5       ]\n",
      " [-0.5         0.33333333]]\n"
     ]
    }
   ],
   "source": [
    "#calculate covariance matrix b/w two numpy arrays\n",
    "a=np.array([2,1,0])\n",
    "b=np.array([2,3,3])\n",
    "cov_mat= np.cov(a,b)\n",
    "print(cov_mat)"
   ]
  },
  {
   "cell_type": "code",
   "execution_count": 92,
   "id": "f253196d",
   "metadata": {},
   "outputs": [
    {
     "name": "stdout",
     "output_type": "stream",
     "text": [
      "[[ 1.        -0.8660254]\n",
      " [-0.8660254  1.       ]]\n"
     ]
    }
   ],
   "source": [
    "#calculate pearson coefficeints relation of 2 ararys\n",
    "cross_corr= np.corrcoef(a,b)\n",
    "print(cross_corr)"
   ]
  },
  {
   "cell_type": "code",
   "execution_count": 11,
   "id": "8b998bb4",
   "metadata": {},
   "outputs": [
    {
     "name": "stdout",
     "output_type": "stream",
     "text": [
      "[0 1 2 3 4]\n"
     ]
    },
    {
     "data": {
      "text/plain": [
       "array([ 0,  1,  8, 27, 64], dtype=int32)"
      ]
     },
     "execution_count": 11,
     "metadata": {},
     "output_type": "execute_result"
    }
   ],
   "source": [
    "#to get the power of each element of array\n",
    "c=np.arange(5)\n",
    "print(c)\n",
    "np.power(c,3)"
   ]
  },
  {
   "cell_type": "code",
   "execution_count": 12,
   "id": "75ac7049",
   "metadata": {},
   "outputs": [
    {
     "name": "stdout",
     "output_type": "stream",
     "text": [
      "[  1   2   3 100 100 100 100]\n",
      "[  1   2   3 100 100 100 100]\n"
     ]
    }
   ],
   "source": [
    "#copy function() & broadcasting\n",
    "a=np.array([1,2,3,4,5,6,7])\n",
    "a[3:]=100\n",
    "print(a)\n",
    "b=a\n",
    "print(b)"
   ]
  },
  {
   "cell_type": "code",
   "execution_count": 13,
   "id": "c5c9a709",
   "metadata": {},
   "outputs": [
    {
     "name": "stdout",
     "output_type": "stream",
     "text": [
      "[  1   2   3 500 500 500 500]\n",
      "[  1   2   3 500 500 500 500]\n"
     ]
    }
   ],
   "source": [
    "#assignment b is assigned a array\n",
    "b[3:]=500\n",
    "print(b)\n",
    "print(a)  #a also get replaced bcoz it is passed as reference variable"
   ]
  },
  {
   "cell_type": "code",
   "execution_count": 106,
   "id": "c5fc1acf",
   "metadata": {},
   "outputs": [
    {
     "name": "stdout",
     "output_type": "stream",
     "text": [
      "[  1   2   3 500 500 500 500]\n",
      "[   1    2    3 1000 1000 1000 1000]\n",
      "[  1   2   3 500 500 500 500]\n"
     ]
    }
   ],
   "source": [
    "#to avoid this\n",
    "print(a)\n",
    "b=a.copy()\n",
    "b[3:]=1000\n",
    "print(b)\n",
    "print(a) #now a has not replaced"
   ]
  },
  {
   "cell_type": "code",
   "execution_count": 111,
   "id": "35166a70",
   "metadata": {},
   "outputs": [
    {
     "data": {
      "text/plain": [
       "array([ True,  True,  True, False, False, False, False])"
      ]
     },
     "execution_count": 111,
     "metadata": {},
     "output_type": "execute_result"
    }
   ],
   "source": [
    "val=4\n",
    "a<val\n",
    "\n"
   ]
  },
  {
   "cell_type": "code",
   "execution_count": 112,
   "id": "58297044",
   "metadata": {},
   "outputs": [
    {
     "data": {
      "text/plain": [
       "array([1, 2, 3])"
      ]
     },
     "execution_count": 112,
     "metadata": {},
     "output_type": "execute_result"
    }
   ],
   "source": [
    "a[a<val]"
   ]
  },
  {
   "cell_type": "code",
   "execution_count": 115,
   "id": "b795ae87",
   "metadata": {},
   "outputs": [
    {
     "data": {
      "text/plain": [
       "array([[25, 60, 43, 81],\n",
       "       [93, 69, 32, 17]])"
      ]
     },
     "execution_count": 115,
     "metadata": {},
     "output_type": "execute_result"
    }
   ],
   "source": [
    "#selecting random integer in 2D array b/w 0 to 100 of size 8\n",
    "np.random.randint(0,100,8).reshape(2,4)"
   ]
  },
  {
   "cell_type": "code",
   "execution_count": 14,
   "id": "9d03fe80",
   "metadata": {},
   "outputs": [
    {
     "data": {
      "text/plain": [
       "array([58, 22, 75, 37, 11, 11, 69, 41])"
      ]
     },
     "execution_count": 14,
     "metadata": {},
     "output_type": "execute_result"
    }
   ],
   "source": [
    "np.random.randint(0,101,8)"
   ]
  },
  {
   "cell_type": "code",
   "execution_count": null,
   "id": "9ebf61a5",
   "metadata": {},
   "outputs": [],
   "source": []
  }
 ],
 "metadata": {
  "kernelspec": {
   "display_name": "Python 3 (ipykernel)",
   "language": "python",
   "name": "python3"
  },
  "language_info": {
   "codemirror_mode": {
    "name": "ipython",
    "version": 3
   },
   "file_extension": ".py",
   "mimetype": "text/x-python",
   "name": "python",
   "nbconvert_exporter": "python",
   "pygments_lexer": "ipython3",
   "version": "3.9.7"
  }
 },
 "nbformat": 4,
 "nbformat_minor": 5
}
